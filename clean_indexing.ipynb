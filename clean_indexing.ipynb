{
 "cells": [
  {
   "cell_type": "code",
   "execution_count": 2,
   "metadata": {},
   "outputs": [],
   "source": [
    "import h5py\n",
    "import numpy as np\n",
    "import faiss\n",
    "from sentence_transformers import SentenceTransformer"
   ]
  },
  {
   "cell_type": "code",
   "execution_count": 4,
   "metadata": {},
   "outputs": [],
   "source": [
    "def load_embeddings_in_chunks(h5_file_path, chunk_size):\n",
    "    with h5py.File(h5_file_path, 'r') as h5_file:\n",
    "        total_size = h5_file['clean_embeddings'].shape[0]\n",
    "        for start in range(0, total_size, chunk_size):\n",
    "            end = min(start + chunk_size, total_size)\n",
    "            embeddings_chunk = h5_file['clean_embeddings'][start:end]\n",
    "            yield embeddings_chunk\n",
    "\n",
    "chunk_size = 100000  # 한 번에 로드할 청크 크기\n",
    "embeddings_generator = load_embeddings_in_chunks('/data/shared/nlp/clean_embeddings.h5', chunk_size)"
   ]
  },
  {
   "cell_type": "code",
   "execution_count": 5,
   "metadata": {},
   "outputs": [],
   "source": [
    "def normalize_embeddings(embeddings):\n",
    "    norms = np.linalg.norm(embeddings, axis=1, keepdims=True)\n",
    "    return embeddings / norms\n",
    "\n",
    "# 임베딩 차원\n",
    "d = 384\n",
    "\n",
    "# IVF 인덱스 설정\n",
    "nlist = 1000  # 클러스터 수\n",
    "quantizer = faiss.IndexFlatIP(d)  # 코사인 유사도는 내적을 사용\n",
    "index = faiss.IndexIVFFlat(quantizer, d, nlist, faiss.METRIC_INNER_PRODUCT)\n",
    "\n",
    "# 첫 번째 청크로 인덱스 훈련\n",
    "first_chunk = next(embeddings_generator)\n",
    "first_chunk_normalized = normalize_embeddings(first_chunk)\n",
    "index.train(first_chunk_normalized)\n",
    "index.add(first_chunk_normalized)\n",
    "\n",
    "# 나머지 청크 추가\n",
    "for embeddings_chunk in embeddings_generator:\n",
    "    embeddings_chunk_normalized = normalize_embeddings(embeddings_chunk)\n",
    "    index.add(embeddings_chunk_normalized)\n",
    "\n",
    "faiss.write_index(index, '/data/shared/nlp/clean_index.ivf')"
   ]
  }
 ],
 "metadata": {
  "kernelspec": {
   "display_name": "youngjun",
   "language": "python",
   "name": "python3"
  },
  "language_info": {
   "codemirror_mode": {
    "name": "ipython",
    "version": 3
   },
   "file_extension": ".py",
   "mimetype": "text/x-python",
   "name": "python",
   "nbconvert_exporter": "python",
   "pygments_lexer": "ipython3",
   "version": "3.12.3"
  }
 },
 "nbformat": 4,
 "nbformat_minor": 2
}
