{
 "cells": [
  {
   "cell_type": "code",
   "execution_count": null,
   "metadata": {},
   "outputs": [],
   "source": [
    "import pandas as pd\n",
    "import re"
   ]
  },
  {
   "cell_type": "code",
   "execution_count": null,
   "metadata": {},
   "outputs": [],
   "source": [
    "# .csv 파일 경로를 입력하세요.\n",
    "file_path = '/data/shared/team17/submission2.csv'\n",
    "# .csv 파일을 pandas 데이터프레임으로 읽어옵니다.\n",
    "df = pd.read_csv(file_path)"
   ]
  },
  {
   "cell_type": "code",
   "execution_count": null,
   "metadata": {},
   "outputs": [],
   "source": [
    "\n",
    "df['sentences'] = df['sentences'].fillna('no')\n",
    "df['sentences'] = df['sentences'].str.replace('(unknown)', 'no')\n",
    "df['sentences'] = df['sentences'].str.replace('(Unknown)', 'no')\n",
    "df['sentences'] = df['sentences'].str.replace('Unknown', 'no')\n",
    "df['sentences'] = df['sentences'].str.replace('none', 'no', regex=True)\n",
    "df['sentences'] = df['sentences'].str.replace(r'[()]', '', regex=True)\n",
    "df['sentences'] = df['sentences'].str.split('so I cannot answer this question').str[0]\n",
    "\n",
    "df['queries'] = df['queries'].replace(r'\\n', ' ', regex=True)\n",
    "\n"
   ]
  },
  {
   "cell_type": "code",
   "execution_count": null,
   "metadata": {},
   "outputs": [],
   "source": [
    "# 각 컬럼별로 null 값이 있는지 확인합니다.\n",
    "null_values = df.isnull().sum()\n",
    "\n",
    "print(\"각 컬럼별 null 값의 수:\")\n",
    "print(null_values)\n",
    "\n",
    "# null 값이 있는 행을 출력합니다.\n",
    "rows_with_nulls = df[df.isnull().any(axis=1)]\n",
    "print(\"\\nnull 값이 있는 행들:\")\n",
    "print(rows_with_nulls)"
   ]
  },
  {
   "cell_type": "code",
   "execution_count": null,
   "metadata": {},
   "outputs": [],
   "source": [
    "df.to_csv('submission2.csv', index=False, encoding='utf-8')"
   ]
  },
  {
   "cell_type": "code",
   "execution_count": null,
   "metadata": {},
   "outputs": [],
   "source": [
    "txt_file_path = 'sentences.txt'\n",
    "with open(txt_file_path, 'w', encoding='utf-8') as file:\n",
    "    for sentence in df['sentences']:\n",
    "        file.write(str(sentence) + '\\n')"
   ]
  }
 ],
 "metadata": {
  "kernelspec": {
   "display_name": "youngjun",
   "language": "python",
   "name": "python3"
  },
  "language_info": {
   "codemirror_mode": {
    "name": "ipython",
    "version": 3
   },
   "file_extension": ".py",
   "mimetype": "text/x-python",
   "name": "python",
   "nbconvert_exporter": "python",
   "pygments_lexer": "ipython3",
   "version": "3.12.3"
  }
 },
 "nbformat": 4,
 "nbformat_minor": 2
}
